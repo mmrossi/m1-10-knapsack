{
 "cells": [
  {
   "cell_type": "markdown",
   "metadata": {},
   "source": [
    "## Knapsack Problem\n",
    "\n",
    "The *knapsack problem*:  given a set of integers $S = \\{s_1, s_2, \\ldots, s_n\\}$ and a target number $T$, find a subset (i.e., knapsack) of $S$ which adds up exactly to $T$.  \n",
    "\n",
    "For example, if $S = \\{1,2,5, 9, 10\\}$, there is a subset that adds up to $T = 22$, but not to $T = 23$.  Complete the following tasks related to this problem."
   ]
  },
  {
   "cell_type": "markdown",
   "metadata": {},
   "source": [
    "# 1. \n",
    "\n",
    "Find a subset of $S = \\{1,2,5, 9, 10\\}$ with sum $T = 22$.  Explain the process (algorithm) you used mentally to find the subset.  Then apply the same process in an attempt to find a subset with sum $T = 23$.  \n",
    "\n",
    "How do you know there is no such subset?"
   ]
  },
  {
   "cell_type": "code",
   "execution_count": null,
   "metadata": {},
   "outputs": [],
   "source": [
    "# Subset of S = {1,2,5,9,10} with sum T = 22:\n",
    "# [10, 9, 2, 1]\n",
    "\n",
    "\n",
    "# To mentally find the solution, I subtract each number from 22 \n",
    "# and see what I am left with, and see if I can use the rest of \n",
    "# the numbers to subtract further and with no remainder.  \n",
    "\n",
    "\n",
    "# How do you know there is no such subset for T = 23? \n",
    "# Because for T = 22 the only remaining non-used number in the set S is 5, and 22 + 5 !=23. \n"
   ]
  },
  {
   "cell_type": "markdown",
   "metadata": {
    "collapsed": true
   },
   "source": [
    "# 2.\n",
    "\n",
    "Consider the following possible algorithm for the knapsack problem, written in psuedocode: \n",
    "```python\n",
    "knapsack(S[], T):\n",
    "    K = empty\n",
    "    for each i < size(S)\n",
    "        if sum(K) + S[i] <= T, put S[i] into K\n",
    "    if sum(K) = T, return K, else return False.\n",
    "```\n",
    "**a)** Describe what this algorithm does in English.  \n",
    "\n",
    "**b)** Implement this algorithm in Python and run it on the $S$ and $T$ above.\n",
    "\n",
    "\n",
    "**c)** Prove that this algorithm is NOT correct.  That is, find a counterexample: a set $S$ and number $T$ for which there is a solution, but not one that the algorithm finds.\n",
    "\n",
    "**d)** Verify that this particular $S$ and $T$ does not give the right output when entered to your Python program."
   ]
  },
  {
   "cell_type": "code",
   "execution_count": null,
   "metadata": {},
   "outputs": [],
   "source": [
    "#a) Describe what this algorithm does in English.\n",
    "\n",
    "# This algorithm grabs a list of values (S), and is given a sum T. We make an empty container K.\n",
    "# For each element smaller than the size of S,\n",
    "# If the sum of what is in K + that element S[i] is smaller or equal to T, we put S[i] into K.\n",
    "# If the sum of what is in K is equal to T, then we return K (the i elements we put in there),\n",
    "# otherwise, we return False, and that means no sum of items S[i] can give T. \n",
    "\n"
   ]
  },
  {
   "cell_type": "code",
   "execution_count": 227,
   "metadata": {},
   "outputs": [
    {
     "output_type": "stream",
     "name": "stdout",
     "text": [
      "[1]\n[1, 2]\n[1, 2, 5]\n[1, 2, 5, 9]\n"
     ]
    },
    {
     "output_type": "execute_result",
     "data": {
      "text/plain": [
       "False"
      ]
     },
     "metadata": {},
     "execution_count": 227
    }
   ],
   "source": [
    "def knapsack(S, T):\n",
    "    K = []\n",
    "    total = sum(S)\n",
    "    for value in S:\n",
    "        if value < total and sum(K) + value <= T:\n",
    "            K.append(value)\n",
    "            print(K)\n",
    "    if sum(K) == T:\n",
    "        return K\n",
    "    else:\n",
    "        return False\n",
    "\n",
    "knapsack({1, 2, 5, 9, 10}, 22)\n",
    "\n",
    "# Gives False. Which is incorrect because there is a sum of S that will give 22. "
   ]
  },
  {
   "cell_type": "code",
   "execution_count": null,
   "metadata": {},
   "outputs": [],
   "source": [
    "# c) Prove that this algorithm is NOT correct. That is, find a counterexample: \n",
    "#   a set S and number T for which there is a solution , but not one that the algorithm finds.\n",
    "\n",
    "# SEE ABOVE. Set S = {1,2,5,9,10} does have a solution for T = 22 (answer: [1,2,9,10]). \n",
    "# But the algorithm does not find it. "
   ]
  },
  {
   "cell_type": "code",
   "execution_count": null,
   "metadata": {},
   "outputs": [],
   "source": [
    "# d) Verify that this particular S and T does not give the right output \n",
    "#   when entered to your Python program.\n",
    "\n",
    "# SEE ABOVE. "
   ]
  },
  {
   "source": [
    "## 3.\n",
    "Another try: What if you put the elements in the knapsack from largest to smallest? Check that this too is not a correct algorithm."
   ],
   "cell_type": "markdown",
   "metadata": {}
  },
  {
   "cell_type": "code",
   "execution_count": 83,
   "metadata": {},
   "outputs": [
    {
     "output_type": "stream",
     "name": "stdout",
     "text": [
      "[10]\n[10, 9]\n[10, 9, 2]\n[10, 9, 2, 1]\n[20]\n[20, 1]\n"
     ]
    },
    {
     "output_type": "execute_result",
     "data": {
      "text/plain": [
       "('sum of [10, 9, 2, 1] equals 22', False)"
      ]
     },
     "metadata": {},
     "execution_count": 83
    }
   ],
   "source": [
    "S = {1,2,5,9,10}\n",
    "S1 = {1,3,5,8,10,15,20}\n",
    "T = 22\n",
    "\n",
    "def knapsack_descend(S, T):\n",
    "    K = []\n",
    "    S = sorted(S, reverse = True)\n",
    "    # if K == None:\n",
    "    #     K = 0\n",
    "    for e in S:\n",
    "        if sum(K) + e <= T:\n",
    "            K.append(e)\n",
    "            print(K)\n",
    "    if sum(K) == T:\n",
    "        return f\"sum of {K} equals {T}\"\n",
    "    else: \n",
    "        return False\n",
    "\n",
    "knapsack_descend(S, T), knapsack_descend(S1, T)\n",
    "\n",
    "# Doesn't work because tha algorithm always necessarily takes the first item, \n",
    "# when in the second case, (for S1 and T) it shouldnt. \n",
    "# It just takes the first one and then the next one that fits. "
   ]
  },
  {
   "cell_type": "markdown",
   "metadata": {},
   "source": [
    "# 4.\n",
    "\n",
    "Describe a correct algorithm for the knapsack problem (that we haven't seen in class), both in English and in pseudocode.  Then implement the algorithm in Python.  Explain how you know your algorithm is correct (even if it might not be efficient)."
   ]
  },
  {
   "cell_type": "code",
   "execution_count": null,
   "metadata": {},
   "outputs": [],
   "source": [
    "# IN ENGLISH:\n",
    "#   For the knapsack problem, we need a way to skip the first item if there \n",
    "#   is no solution with that one, and try with the second item instead. \n",
    "# IN PSEUDOCODE:\n",
    "#   knapsack(S[], T):\n",
    "    # K = empty\n",
    "    # for each i in S:\n",
    "    #     if sum(K) + S[i] <= T, put S[i] into K\n",
    "    # if sum(K) = T, return K, \n",
    "    # else for each i in S(1:):\n",
    "    #   if sum(K) + S[i] <= T, put S[i] into K.\n",
    "    # if sum(K) = T, return K"
   ]
  },
  {
   "cell_type": "code",
   "execution_count": 229,
   "metadata": {},
   "outputs": [
    {
     "output_type": "stream",
     "name": "stdout",
     "text": [
      "[20]\n[20, 1]\n[15]\n[15, 5]\n[15, 5, 1]\n[10]\n[10, 8]\n[10, 8, 3]\n[10, 8, 3, 1]\nyes\n"
     ]
    },
    {
     "output_type": "execute_result",
     "data": {
      "text/plain": [
       "(True, 'sum of [10, 8, 3, 1] equals 22')"
      ]
     },
     "metadata": {},
     "execution_count": 229
    }
   ],
   "source": [
    "def knapsack_correct(S, T):\n",
    "    K = []\n",
    "    S = sorted(S, reverse = True)\n",
    "\n",
    "    for e in S:\n",
    "        if sum(K) + e <= T:\n",
    "            K.append(e)\n",
    "            print(K)\n",
    "            # print(sum(K))\n",
    "        if sum(K) == T:\n",
    "            print(\"yes\")\n",
    "            return True, f'sum of {K} equals {T}'\n",
    "    return knapsack_correct(S[1:], T)\n",
    "\n",
    "\n",
    "S1 = {1,3,5,8,10,15,20}\n",
    "T = 22\n",
    "knapsack_correct(S1, T)"
   ]
  },
  {
   "cell_type": "markdown",
   "metadata": {
    "collapsed": true
   },
   "source": [
    "# 5. Generating correct change\n",
    "\n",
    "Now, we will be making change using the fewest coins. \n",
    "\n",
    "Suppose you are a programmer for a vending machine manufacturer. Your company wants to streamline effort by giving out the fewest possible coins in change for each transaction. Suppose a customer puts in a dollar bill and purchases an item for 37 cents. What is the smallest number of coins you can use to make change? The answer is six coins: two quarters, one dime, and three pennies. \n",
    "\n",
    "How did we arrive at the answer of six coins? We start with the largest coin in our arsenal (a quarter) and use as many of those as possible, then we go to the next lowest coin value and use as many of those as possible. This is the greedy algorithm for change-making.\n",
    "\n",
    "**Question:** Write the greedy algorithm for change making.\n",
    "\n",
    "The input is the amount of change to generate (in pennies) and a list of coin sizes (in pennies)\n",
    "\n",
    "The output is the minimum number of coins to gener\n",
    "\n",
    "```\n",
    "# buys with 1 dollar for 37 pennies\n",
    "# Second argument says we can give quarters, dimes, nickels and pennies\n",
    "make_change(100 - 37, [25, 10, 5, 1])\n",
    "\n",
    "# 2 quarters, one dime, and three pennies\n",
    "output --> 6 # Output would be equivalent to the choices [2, 1, 0, 3]\n",
    "```"
   ]
  },
  {
   "cell_type": "code",
   "execution_count": 230,
   "metadata": {},
   "outputs": [
    {
     "output_type": "stream",
     "name": "stdout",
     "text": [
      "[2]\n13\n[2, 1]\n3\n[2, 1, 0, 3]\n0\n"
     ]
    },
    {
     "output_type": "execute_result",
     "data": {
      "text/plain": [
       "'[2, 1, 0, 3] is the amount of [25, 10, 5, 1] we receive back'"
      ]
     },
     "metadata": {},
     "execution_count": 230
    }
   ],
   "source": [
    "# Greedy algorithm is picking the most attractice candidate right now at every step. Sorting descending order. \n",
    "\n",
    "def greedy_change(amount, coin_sizes):\n",
    "    change = []\n",
    "    for e in coin_sizes: # we want how many times max each one can fit into the remaining amount. \n",
    "        if e < amount:\n",
    "            change.append(amount // e)\n",
    "            amount = amount-(amount//e)*e #need this to only happen at position[1] for the 10cents. \n",
    "            print(change)\n",
    "            print(amount)\n",
    "        else:\n",
    "            change.append(0)\n",
    "            amount = amount - sum(change*0)\n",
    "    if amount == 0:\n",
    "        return f\"{change} is the amount of {coin_sizes} we receive back\"\n",
    "    else:\n",
    "        return False\n",
    "\n",
    "\n",
    "amount = 100-37\n",
    "coin_sizes = [25, 10, 5, 1]\n",
    "greedy_change(amount, coin_sizes)"
   ]
  },
  {
   "cell_type": "markdown",
   "metadata": {},
   "source": [
    "# 6 Recursive change\n",
    "\n",
    "Write the greedy change making algorithm using recursion"
   ]
  },
  {
   "cell_type": "code",
   "execution_count": 235,
   "metadata": {
    "tags": []
   },
   "outputs": [
    {
     "output_type": "execute_result",
     "data": {
      "text/plain": [
       "6"
      ]
     },
     "metadata": {},
     "execution_count": 235
    }
   ],
   "source": [
    "# I wrote 3 :)\n",
    "# First one returns the NUMBER of coins we receive back. \n",
    "\n",
    "def recursive_change(amount, coin_sizes, count=0):\n",
    "    coin_sizes = sorted(coin_sizes, reverse=True)\n",
    "    if amount == 0:\n",
    "        return count\n",
    "    for c in coin_sizes:\n",
    "        if c <= amount:\n",
    "            return recursive_change(amount-c, coin_sizes, count+1)\n",
    "    \n",
    "\n",
    "\n",
    "amount = 100-37\n",
    "coin_sizes = [25, 10, 5, 1]\n",
    "recursive_change(100-37, coin_sizes)\n"
   ]
  },
  {
   "cell_type": "code",
   "execution_count": 246,
   "metadata": {},
   "outputs": [
    {
     "output_type": "execute_result",
     "data": {
      "text/plain": [
       "[25, 25, 10, 1, 1, 1]"
      ]
     },
     "metadata": {},
     "execution_count": 246
    }
   ],
   "source": [
    "# This second one returns back WHICH coins we receive back.\n",
    "\n",
    "change_list = []\n",
    "def recursive_change_2(change, coin_list):\n",
    "  coin_list.sort(reverse = True)\n",
    "  for coin in coin_list:\n",
    "    if change >= coin:\n",
    "      change_list.append(coin)\n",
    "      return recursive_change_2(change - coin, coin_list)\n",
    "  return change_list\n",
    "\n",
    "recursive_change_2(63, [1,5,10,25])\n"
   ]
  },
  {
   "cell_type": "code",
   "execution_count": 248,
   "metadata": {},
   "outputs": [
    {
     "output_type": "stream",
     "name": "stdout",
     "text": [
      "2\n50\n1\n10\n0\n0\n3\n3\n"
     ]
    },
    {
     "output_type": "execute_result",
     "data": {
      "text/plain": [
       "6"
      ]
     },
     "metadata": {},
     "execution_count": 248
    }
   ],
   "source": [
    "# This third one also returns the NUMBER of coins we receive back. \n",
    "# But works in an interesting way (using division).\n",
    "\n",
    "def recursive_change_3(initial, purchase_price, coin_list):\n",
    "    coin_list = sorted(coin_list, reverse=True)\n",
    "    if coin_list == []:\n",
    "        return 0\n",
    "    else:\n",
    "        value = initial - purchase_price\n",
    "        y = value//coin_list[0]\n",
    "        print(y)\n",
    "        used_coins = coin_list[0] * (y)\n",
    "        print(used_coins)\n",
    "        return (y) + recursive_change_3(value, used_coins, coin_list[1:])\n",
    "    \n",
    "recursive_change_3(100, 37, [25, 10, 5, 1])"
   ]
  },
  {
   "cell_type": "markdown",
   "metadata": {},
   "source": [
    "# 7 (Stretch) Dynamic Programming Change making\n",
    "\n",
    "Write a solution to the change making problem using dynamic programming.\n",
    "\n",
    "**Hint:** Start with making change for one cent and systematically work its way up to the amount of change we require. This guarantees us that at each step of the algorithm we already know the minimum number of coins needed to make change for any smaller amount. Keep a memoized table of results for each step working up to the amount of change you need to generate."
   ]
  },
  {
   "cell_type": "code",
   "execution_count": 219,
   "metadata": {},
   "outputs": [
    {
     "output_type": "stream",
     "name": "stdout",
     "text": [
      "[[ 0  1  2  3  4  5  6  7  8  9 10 11 12 13 14 15 16 17 18 19 20 21 22 23\n  24 25 26 27 28 29 30 31 32 33 34 35 36 37 38 39 40 41 42 43 44 45 46 47\n  48 49 50 51 52 53 54 55 56 57 58 59 60 61 62 63]\n [ 0  0  0  0  0  0  0  0  0  0  0  0  0  0  0  0  0  0  0  0  0  0  0  0\n   0  0  0  0  0  0  0  0  0  0  0  0  0  0  0  0  0  0  0  0  0  0  0  0\n   0  0  0  0  0  0  0  0  0  0  0  0  0  0  0  0]\n [ 0  0  0  0  0  0  0  0  0  0  0  0  0  0  0  0  0  0  0  0  0  0  0  0\n   0  0  0  0  0  0  0  0  0  0  0  0  0  0  0  0  0  0  0  0  0  0  0  0\n   0  0  0  0  0  0  0  0  0  0  0  0  0  0  0  0]\n [ 0  0  0  0  0  0  0  0  0  0  0  0  0  0  0  0  0  0  0  0  0  0  0  0\n   0  0  0  0  0  0  0  0  0  0  0  0  0  0  0  0  0  0  0  0  0  0  0  0\n   0  0  0  0  0  0  0  0  0  0  0  0  0  0  0  0]\n [ 0  0  0  0  0  0  0  0  0  0  0  0  0  0  0  0  0  0  0  0  0  0  0  0\n   0  0  0  0  0  0  0  0  0  0  0  0  0  0  0  0  0  0  0  0  0  0  0  0\n   0  0  0  0  0  0  0  0  0  0  0  0  0  0  0  0]]\n"
     ]
    },
    {
     "output_type": "execute_result",
     "data": {
      "text/plain": [
       "[[0,\n",
       "  1,\n",
       "  2,\n",
       "  3,\n",
       "  4,\n",
       "  5,\n",
       "  6,\n",
       "  7,\n",
       "  8,\n",
       "  9,\n",
       "  10,\n",
       "  11,\n",
       "  12,\n",
       "  13,\n",
       "  14,\n",
       "  15,\n",
       "  16,\n",
       "  17,\n",
       "  18,\n",
       "  19,\n",
       "  20,\n",
       "  21,\n",
       "  22,\n",
       "  23,\n",
       "  24,\n",
       "  25,\n",
       "  26,\n",
       "  27,\n",
       "  28,\n",
       "  29,\n",
       "  30,\n",
       "  31,\n",
       "  32,\n",
       "  33,\n",
       "  34,\n",
       "  35,\n",
       "  36,\n",
       "  37,\n",
       "  38,\n",
       "  39,\n",
       "  40,\n",
       "  41,\n",
       "  42,\n",
       "  43,\n",
       "  44,\n",
       "  45,\n",
       "  46,\n",
       "  47,\n",
       "  48,\n",
       "  49,\n",
       "  50,\n",
       "  51,\n",
       "  52,\n",
       "  53,\n",
       "  54,\n",
       "  55,\n",
       "  56,\n",
       "  57,\n",
       "  58,\n",
       "  59,\n",
       "  60,\n",
       "  61,\n",
       "  62,\n",
       "  63],\n",
       " [0,\n",
       "  0,\n",
       "  0,\n",
       "  0,\n",
       "  0,\n",
       "  0,\n",
       "  0,\n",
       "  0,\n",
       "  0,\n",
       "  0,\n",
       "  0,\n",
       "  0,\n",
       "  0,\n",
       "  0,\n",
       "  0,\n",
       "  0,\n",
       "  0,\n",
       "  0,\n",
       "  0,\n",
       "  0,\n",
       "  0,\n",
       "  0,\n",
       "  0,\n",
       "  0,\n",
       "  0,\n",
       "  0,\n",
       "  0,\n",
       "  0,\n",
       "  0,\n",
       "  0,\n",
       "  0,\n",
       "  0,\n",
       "  0,\n",
       "  0,\n",
       "  0,\n",
       "  0,\n",
       "  0,\n",
       "  0,\n",
       "  0,\n",
       "  0,\n",
       "  0,\n",
       "  0,\n",
       "  0,\n",
       "  0,\n",
       "  0,\n",
       "  0,\n",
       "  0,\n",
       "  0,\n",
       "  0,\n",
       "  0,\n",
       "  0,\n",
       "  0,\n",
       "  0,\n",
       "  0,\n",
       "  0,\n",
       "  0,\n",
       "  0,\n",
       "  0,\n",
       "  0,\n",
       "  0,\n",
       "  0,\n",
       "  0,\n",
       "  0,\n",
       "  0],\n",
       " [0,\n",
       "  0,\n",
       "  0,\n",
       "  0,\n",
       "  0,\n",
       "  0,\n",
       "  0,\n",
       "  0,\n",
       "  0,\n",
       "  0,\n",
       "  0,\n",
       "  0,\n",
       "  0,\n",
       "  0,\n",
       "  0,\n",
       "  0,\n",
       "  0,\n",
       "  0,\n",
       "  0,\n",
       "  0,\n",
       "  0,\n",
       "  0,\n",
       "  0,\n",
       "  0,\n",
       "  0,\n",
       "  0,\n",
       "  0,\n",
       "  0,\n",
       "  0,\n",
       "  0,\n",
       "  0,\n",
       "  0,\n",
       "  0,\n",
       "  0,\n",
       "  0,\n",
       "  0,\n",
       "  0,\n",
       "  0,\n",
       "  0,\n",
       "  0,\n",
       "  0,\n",
       "  0,\n",
       "  0,\n",
       "  0,\n",
       "  0,\n",
       "  0,\n",
       "  0,\n",
       "  0,\n",
       "  0,\n",
       "  0,\n",
       "  0,\n",
       "  0,\n",
       "  0,\n",
       "  0,\n",
       "  0,\n",
       "  0,\n",
       "  0,\n",
       "  0,\n",
       "  0,\n",
       "  0,\n",
       "  0,\n",
       "  0,\n",
       "  0,\n",
       "  0],\n",
       " [0,\n",
       "  0,\n",
       "  0,\n",
       "  0,\n",
       "  0,\n",
       "  0,\n",
       "  0,\n",
       "  0,\n",
       "  0,\n",
       "  0,\n",
       "  0,\n",
       "  0,\n",
       "  0,\n",
       "  0,\n",
       "  0,\n",
       "  0,\n",
       "  0,\n",
       "  0,\n",
       "  0,\n",
       "  0,\n",
       "  0,\n",
       "  0,\n",
       "  0,\n",
       "  0,\n",
       "  0,\n",
       "  0,\n",
       "  0,\n",
       "  0,\n",
       "  0,\n",
       "  0,\n",
       "  0,\n",
       "  0,\n",
       "  0,\n",
       "  0,\n",
       "  0,\n",
       "  0,\n",
       "  0,\n",
       "  0,\n",
       "  0,\n",
       "  0,\n",
       "  0,\n",
       "  0,\n",
       "  0,\n",
       "  0,\n",
       "  0,\n",
       "  0,\n",
       "  0,\n",
       "  0,\n",
       "  0,\n",
       "  0,\n",
       "  0,\n",
       "  0,\n",
       "  0,\n",
       "  0,\n",
       "  0,\n",
       "  0,\n",
       "  0,\n",
       "  0,\n",
       "  0,\n",
       "  0,\n",
       "  0,\n",
       "  0,\n",
       "  0,\n",
       "  0],\n",
       " [0,\n",
       "  0,\n",
       "  0,\n",
       "  0,\n",
       "  0,\n",
       "  0,\n",
       "  0,\n",
       "  0,\n",
       "  0,\n",
       "  0,\n",
       "  0,\n",
       "  0,\n",
       "  0,\n",
       "  0,\n",
       "  0,\n",
       "  0,\n",
       "  0,\n",
       "  0,\n",
       "  0,\n",
       "  0,\n",
       "  0,\n",
       "  0,\n",
       "  0,\n",
       "  0,\n",
       "  0,\n",
       "  0,\n",
       "  0,\n",
       "  0,\n",
       "  0,\n",
       "  0,\n",
       "  0,\n",
       "  0,\n",
       "  0,\n",
       "  0,\n",
       "  0,\n",
       "  0,\n",
       "  0,\n",
       "  0,\n",
       "  0,\n",
       "  0,\n",
       "  0,\n",
       "  0,\n",
       "  0,\n",
       "  0,\n",
       "  0,\n",
       "  0,\n",
       "  0,\n",
       "  0,\n",
       "  0,\n",
       "  0,\n",
       "  0,\n",
       "  0,\n",
       "  0,\n",
       "  0,\n",
       "  0,\n",
       "  0,\n",
       "  0,\n",
       "  0,\n",
       "  0,\n",
       "  0,\n",
       "  0,\n",
       "  0,\n",
       "  0,\n",
       "  0]]"
      ]
     },
     "metadata": {},
     "execution_count": 219
    }
   ],
   "source": [
    "# NOT COMPLETE. \n",
    "\n",
    "import numpy as np\n",
    "def dynamic_change(coin_sizes, amount):\n",
    "    matrix = [[0 for m in range(amount+1)] for m in range(len(coin_sizes)+1)]\n",
    "    for i in range(amount+1):\n",
    "        matrix[0][i] = i\n",
    "    print(np.array(matrix))\n",
    "    return matrix\n",
    "\n",
    "\n",
    "\n",
    "dynamic_change(coin_sizes, amount)"
   ]
  },
  {
   "cell_type": "code",
   "execution_count": 223,
   "metadata": {},
   "outputs": [
    {
     "output_type": "execute_result",
     "data": {
      "text/plain": [
       "6"
      ]
     },
     "metadata": {},
     "execution_count": 223
    }
   ],
   "source": [
    "# NOT MY WORK. \n",
    "# CORRECT ANSWER FOR FUTURE REFERENCE.\n",
    "\n",
    "\n",
    "def MakeChange(coinValueList, change, minCoins):\n",
    "    for cents in range(change+1):\n",
    "        coinCount = cents\n",
    "        for j in [c for c in coinValueList if c <= cents]:\n",
    "            if minCoins[cents-j] + 1 < coinCount:\n",
    "                coinCount = minCoins[cents-j]+1\n",
    "        minCoins[cents] = coinCount\n",
    "        #print(minCoins)\n",
    "    return minCoins[change]\n",
    "\n",
    "MakeChange([1, 5, 10, 25], 63, {})\n"
   ]
  },
  {
   "cell_type": "code",
   "execution_count": null,
   "metadata": {},
   "outputs": [],
   "source": [
    "## "
   ]
  }
 ],
 "metadata": {
  "kernelspec": {
   "display_name": "Python 3",
   "language": "python",
   "name": "python3"
  },
  "language_info": {
   "codemirror_mode": {
    "name": "ipython",
    "version": 3
   },
   "file_extension": ".py",
   "mimetype": "text/x-python",
   "name": "python",
   "nbconvert_exporter": "python",
   "pygments_lexer": "ipython3",
   "version": "3.8.3-final"
  }
 },
 "nbformat": 4,
 "nbformat_minor": 1
}